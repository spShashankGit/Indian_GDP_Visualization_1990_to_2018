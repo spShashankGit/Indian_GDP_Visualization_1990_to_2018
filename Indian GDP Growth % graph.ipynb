{
 "cells": [
  {
   "cell_type": "code",
   "execution_count": 72,
   "metadata": {},
   "outputs": [],
   "source": [
    "import pandas as pd\n",
    "\n",
    "import matplotlib.pyplot as plt\n",
    "\n",
    "import numpy as np"
   ]
  },
  {
   "cell_type": "code",
   "execution_count": 105,
   "metadata": {},
   "outputs": [
    {
     "data": {
      "text/html": [
       "<div>\n",
       "<style scoped>\n",
       "    .dataframe tbody tr th:only-of-type {\n",
       "        vertical-align: middle;\n",
       "    }\n",
       "\n",
       "    .dataframe tbody tr th {\n",
       "        vertical-align: top;\n",
       "    }\n",
       "\n",
       "    .dataframe thead th {\n",
       "        text-align: right;\n",
       "    }\n",
       "</style>\n",
       "<table border=\"1\" class=\"dataframe\">\n",
       "  <thead>\n",
       "    <tr style=\"text-align: right;\">\n",
       "      <th></th>\n",
       "      <th>0</th>\n",
       "      <th>1</th>\n",
       "    </tr>\n",
       "  </thead>\n",
       "  <tbody>\n",
       "    <tr>\n",
       "      <td>0</td>\n",
       "      <td>Series Name</td>\n",
       "      <td>GDP growth (annual %)</td>\n",
       "    </tr>\n",
       "    <tr>\n",
       "      <td>1</td>\n",
       "      <td>Series Code</td>\n",
       "      <td>NY.GDP.MKTP.KD.ZG</td>\n",
       "    </tr>\n",
       "    <tr>\n",
       "      <td>2</td>\n",
       "      <td>Country Name</td>\n",
       "      <td>India</td>\n",
       "    </tr>\n",
       "    <tr>\n",
       "      <td>3</td>\n",
       "      <td>Country Code</td>\n",
       "      <td>IND</td>\n",
       "    </tr>\n",
       "    <tr>\n",
       "      <td>4</td>\n",
       "      <td>1990 [YR1990]</td>\n",
       "      <td>5.53345456306511</td>\n",
       "    </tr>\n",
       "    <tr>\n",
       "      <td>5</td>\n",
       "      <td>2000 [YR2000]</td>\n",
       "      <td>3.84099115681285</td>\n",
       "    </tr>\n",
       "    <tr>\n",
       "      <td>6</td>\n",
       "      <td>2010 [YR2010]</td>\n",
       "      <td>8.49758470158106</td>\n",
       "    </tr>\n",
       "    <tr>\n",
       "      <td>7</td>\n",
       "      <td>2011 [YR2011]</td>\n",
       "      <td>5.2413447428854</td>\n",
       "    </tr>\n",
       "    <tr>\n",
       "      <td>8</td>\n",
       "      <td>2012 [YR2012]</td>\n",
       "      <td>5.45635895072287</td>\n",
       "    </tr>\n",
       "    <tr>\n",
       "      <td>9</td>\n",
       "      <td>2013 [YR2013]</td>\n",
       "      <td>6.38610640094825</td>\n",
       "    </tr>\n",
       "    <tr>\n",
       "      <td>10</td>\n",
       "      <td>2014 [YR2014]</td>\n",
       "      <td>7.41022760508852</td>\n",
       "    </tr>\n",
       "    <tr>\n",
       "      <td>11</td>\n",
       "      <td>2015 [YR2015]</td>\n",
       "      <td>7.99625378571471</td>\n",
       "    </tr>\n",
       "    <tr>\n",
       "      <td>12</td>\n",
       "      <td>2016 [YR2016]</td>\n",
       "      <td>8.16952650547138</td>\n",
       "    </tr>\n",
       "    <tr>\n",
       "      <td>13</td>\n",
       "      <td>2017 [YR2017]</td>\n",
       "      <td>7.16788886086535</td>\n",
       "    </tr>\n",
       "    <tr>\n",
       "      <td>14</td>\n",
       "      <td>2018 [YR2018]</td>\n",
       "      <td>6.81136932613997</td>\n",
       "    </tr>\n",
       "    <tr>\n",
       "      <td>15</td>\n",
       "      <td>2019 [YR2019]</td>\n",
       "      <td>..</td>\n",
       "    </tr>\n",
       "  </tbody>\n",
       "</table>\n",
       "</div>"
      ],
      "text/plain": [
       "                0                      1\n",
       "0     Series Name  GDP growth (annual %)\n",
       "1     Series Code      NY.GDP.MKTP.KD.ZG\n",
       "2    Country Name                  India\n",
       "3    Country Code                    IND\n",
       "4   1990 [YR1990]       5.53345456306511\n",
       "5   2000 [YR2000]       3.84099115681285\n",
       "6   2010 [YR2010]       8.49758470158106\n",
       "7   2011 [YR2011]        5.2413447428854\n",
       "8   2012 [YR2012]       5.45635895072287\n",
       "9   2013 [YR2013]       6.38610640094825\n",
       "10  2014 [YR2014]       7.41022760508852\n",
       "11  2015 [YR2015]       7.99625378571471\n",
       "12  2016 [YR2016]       8.16952650547138\n",
       "13  2017 [YR2017]       7.16788886086535\n",
       "14  2018 [YR2018]       6.81136932613997\n",
       "15  2019 [YR2019]                     .."
      ]
     },
     "execution_count": 105,
     "metadata": {},
     "output_type": "execute_result"
    }
   ],
   "source": [
    "gdp_growth_rate_data = pd.read_csv('Dataset/IndiaGDPGrowthPercentageWorldBank.csv',header=None)\n",
    "gdp_growth_rate_data.sample(5)\n",
    "\n",
    "#drop data sets with null values\n",
    "gdp_growth_rate_data = gdp_growth_rate_data.dropna()\n",
    "gdp_growth_rate_data.transpose()\n",
    "\n",
    "\n"
   ]
  },
  {
   "cell_type": "code",
   "execution_count": 106,
   "metadata": {},
   "outputs": [
    {
     "data": {
      "text/plain": [
       "0    object\n",
       "1    object\n",
       "dtype: object"
      ]
     },
     "execution_count": 106,
     "metadata": {},
     "output_type": "execute_result"
    }
   ],
   "source": [
    "gdp_growth_rate_data.transpose().dtypes"
   ]
  },
  {
   "cell_type": "code",
   "execution_count": 120,
   "metadata": {},
   "outputs": [
    {
     "data": {
      "text/html": [
       "<div>\n",
       "<style scoped>\n",
       "    .dataframe tbody tr th:only-of-type {\n",
       "        vertical-align: middle;\n",
       "    }\n",
       "\n",
       "    .dataframe tbody tr th {\n",
       "        vertical-align: top;\n",
       "    }\n",
       "\n",
       "    .dataframe thead th {\n",
       "        text-align: right;\n",
       "    }\n",
       "</style>\n",
       "<table border=\"1\" class=\"dataframe\">\n",
       "  <thead>\n",
       "    <tr style=\"text-align: right;\">\n",
       "      <th></th>\n",
       "      <th>0</th>\n",
       "      <th>1</th>\n",
       "    </tr>\n",
       "  </thead>\n",
       "  <tbody>\n",
       "    <tr>\n",
       "      <td>4</td>\n",
       "      <td>1990 [YR1990]</td>\n",
       "      <td>5.53345456306511</td>\n",
       "    </tr>\n",
       "    <tr>\n",
       "      <td>5</td>\n",
       "      <td>2000 [YR2000]</td>\n",
       "      <td>3.84099115681285</td>\n",
       "    </tr>\n",
       "    <tr>\n",
       "      <td>6</td>\n",
       "      <td>2010 [YR2010]</td>\n",
       "      <td>8.49758470158106</td>\n",
       "    </tr>\n",
       "    <tr>\n",
       "      <td>7</td>\n",
       "      <td>2011 [YR2011]</td>\n",
       "      <td>5.2413447428854</td>\n",
       "    </tr>\n",
       "    <tr>\n",
       "      <td>8</td>\n",
       "      <td>2012 [YR2012]</td>\n",
       "      <td>5.45635895072287</td>\n",
       "    </tr>\n",
       "    <tr>\n",
       "      <td>9</td>\n",
       "      <td>2013 [YR2013]</td>\n",
       "      <td>6.38610640094825</td>\n",
       "    </tr>\n",
       "    <tr>\n",
       "      <td>10</td>\n",
       "      <td>2014 [YR2014]</td>\n",
       "      <td>7.41022760508852</td>\n",
       "    </tr>\n",
       "    <tr>\n",
       "      <td>11</td>\n",
       "      <td>2015 [YR2015]</td>\n",
       "      <td>7.99625378571471</td>\n",
       "    </tr>\n",
       "    <tr>\n",
       "      <td>12</td>\n",
       "      <td>2016 [YR2016]</td>\n",
       "      <td>8.16952650547138</td>\n",
       "    </tr>\n",
       "    <tr>\n",
       "      <td>13</td>\n",
       "      <td>2017 [YR2017]</td>\n",
       "      <td>7.16788886086535</td>\n",
       "    </tr>\n",
       "    <tr>\n",
       "      <td>14</td>\n",
       "      <td>2018 [YR2018]</td>\n",
       "      <td>6.81136932613997</td>\n",
       "    </tr>\n",
       "  </tbody>\n",
       "</table>\n",
       "</div>"
      ],
      "text/plain": [
       "                0                 1\n",
       "4   1990 [YR1990]  5.53345456306511\n",
       "5   2000 [YR2000]  3.84099115681285\n",
       "6   2010 [YR2010]  8.49758470158106\n",
       "7   2011 [YR2011]   5.2413447428854\n",
       "8   2012 [YR2012]  5.45635895072287\n",
       "9   2013 [YR2013]  6.38610640094825\n",
       "10  2014 [YR2014]  7.41022760508852\n",
       "11  2015 [YR2015]  7.99625378571471\n",
       "12  2016 [YR2016]  8.16952650547138\n",
       "13  2017 [YR2017]  7.16788886086535\n",
       "14  2018 [YR2018]  6.81136932613997"
      ]
     },
     "execution_count": 120,
     "metadata": {},
     "output_type": "execute_result"
    }
   ],
   "source": [
    "#Extract only the year name from the dataset\n",
    "#year = gdp_growth_rate_data.columns[4:]\n",
    "#gdp_growth_rate_percentage=gdp_growth_rate_data[year]\n",
    "#gdp_growth_rate_percentage\n",
    "\n",
    "#Assign year and growth % to dataset\n",
    "#gdp_growth_rate_data_massage = year\n",
    "\n",
    "#Final data\n",
    "data = gdp_growth_rate_data.transpose()\n",
    "data = data[4:15]\n",
    "data\n"
   ]
  },
  {
   "cell_type": "code",
   "execution_count": 124,
   "metadata": {},
   "outputs": [
    {
     "data": {
      "text/plain": [
       "0     object\n",
       "1    float64\n",
       "dtype: object"
      ]
     },
     "execution_count": 124,
     "metadata": {},
     "output_type": "execute_result"
    }
   ],
   "source": [
    "data[1] = pd.to_numeric(data[1])\n",
    "data.dtypes\n"
   ]
  },
  {
   "cell_type": "code",
   "execution_count": 125,
   "metadata": {},
   "outputs": [
    {
     "data": {
      "image/png": "[encoded data removed]",
      "text/plain": [
       "<Figure size 1440x720 with 1 Axes>"
      ]
     },
     "metadata": {
      "needs_background": "light"
     },
     "output_type": "display_data"
    }
   ],
   "source": [
    "plt.figure (figsize = (20,10))\n",
    "\n",
    "plt.plot(data[0],data[1],label='Year')\n",
    "\n",
    "plt.xlabel('Year')\n",
    "plt.ylabel('India - GDP Growth Rate %')\n",
    "\n",
    "plt.legend()\n",
    "plt.show()"
   ]
  },
  {
   "cell_type": "code",
   "execution_count": null,
   "metadata": {},
   "outputs": [],
   "source": []
  }
 ],
 "metadata": {
  "kernelspec": {
   "display_name": "Python 3",
   "language": "python",
   "name": "python3"
  },
  "language_info": {
   "codemirror_mode": {
    "name": "ipython",
    "version": 3
   },
   "file_extension": ".py",
   "mimetype": "text/x-python",
   "name": "python",
   "nbconvert_exporter": "python",
   "pygments_lexer": "ipython3",
   "version": "3.7.4"
  }
 },
 "nbformat": 4,
 "nbformat_minor": 2
}
